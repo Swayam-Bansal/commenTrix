{
 "cells": [
  {
   "cell_type": "code",
   "execution_count": 3,
   "id": "c5a4e34e-15c3-4bc2-828c-49b5a23ef95e",
   "metadata": {},
   "outputs": [
    {
     "name": "stderr",
     "output_type": "stream",
     "text": [
      "No model was supplied, defaulted to distilbert/distilbert-base-uncased-finetuned-sst-2-english and revision 714eb0f (https://huggingface.co/distilbert/distilbert-base-uncased-finetuned-sst-2-english).\n",
      "Using a pipeline without specifying a model name and revision in production is not recommended.\n",
      "Device set to use mps:0\n"
     ]
    },
    {
     "name": "stdout",
     "output_type": "stream",
     "text": [
      "[{'label': 'POSITIVE', 'score': 0.9998857975006104}]\n"
     ]
    }
   ],
   "source": [
    "from transformers import pipeline\n",
    "classifier = pipeline(\"sentiment-analysis\")\n",
    "print(classifier(\"This project is amazing!\"))"
   ]
  },
  {
   "cell_type": "code",
   "execution_count": 4,
   "id": "8ef81906-2003-485a-ab92-66a17032c6f5",
   "metadata": {},
   "outputs": [],
   "source": [
    "import pymongo\n",
    "import flask\n",
    "import googleapiclient.discovery"
   ]
  },
  {
   "cell_type": "code",
   "execution_count": 5,
   "id": "3d6a51fc-35e9-4dab-aa79-7f7e118b2ac8",
   "metadata": {},
   "outputs": [
    {
     "name": "stderr",
     "output_type": "stream",
     "text": [
      "No model was supplied, defaulted to distilbert/distilbert-base-uncased-finetuned-sst-2-english and revision 714eb0f (https://huggingface.co/distilbert/distilbert-base-uncased-finetuned-sst-2-english).\n",
      "Using a pipeline without specifying a model name and revision in production is not recommended.\n",
      "Device set to use mps:0\n"
     ]
    },
    {
     "data": {
      "text/plain": [
       "[{'label': 'POSITIVE', 'score': 0.9998857975006104}]"
      ]
     },
     "execution_count": 5,
     "metadata": {},
     "output_type": "execute_result"
    }
   ],
   "source": [
    "sentiment = pipeline(\"sentiment-analysis\")\n",
    "sentiment(\"This project is amazing!\")"
   ]
  },
  {
   "cell_type": "code",
   "execution_count": 6,
   "id": "6d93c766-d666-4b0a-beea-b7f951308213",
   "metadata": {},
   "outputs": [
    {
     "name": "stdout",
     "output_type": "stream",
     "text": [
      "Map([<Rule '/static/<filename>' (HEAD, GET, OPTIONS) -> static>,\n",
      " <Rule '/' (HEAD, GET, OPTIONS) -> hello>])\n"
     ]
    }
   ],
   "source": [
    "from flask import Flask\n",
    "\n",
    "app = Flask(__name__)\n",
    "\n",
    "@app.route(\"/\")\n",
    "def hello():\n",
    "    return \"Hello from Flask!\"\n",
    "\n",
    "# Test if the route is set\n",
    "print(app.url_map)"
   ]
  },
  {
   "cell_type": "code",
   "execution_count": 7,
   "id": "64167d96-8bcb-41b9-bdaf-9b879339523c",
   "metadata": {},
   "outputs": [
    {
     "name": "stdout",
     "output_type": "stream",
     "text": [
      "YouTube client built successfully.\n"
     ]
    }
   ],
   "source": [
    "from googleapiclient.discovery import build\n",
    "\n",
    "# Dummy test to check client build works\n",
    "try:\n",
    "    youtube = build(\"youtube\", \"v3\", developerKey=\"YOUR_FAKE_API_KEY\")\n",
    "    print(\"YouTube client built successfully.\")\n",
    "except Exception as e:\n",
    "    print(f\"Failed to build client: {e}\")"
   ]
  },
  {
   "cell_type": "code",
   "execution_count": null,
   "id": "bc168cd5-b84c-4521-b8ab-fd3ab2457039",
   "metadata": {},
   "outputs": [],
   "source": []
  }
 ],
 "metadata": {
  "kernelspec": {
   "display_name": "Python 3 (ipykernel)",
   "language": "python",
   "name": "python3"
  },
  "language_info": {
   "codemirror_mode": {
    "name": "ipython",
    "version": 3
   },
   "file_extension": ".py",
   "mimetype": "text/x-python",
   "name": "python",
   "nbconvert_exporter": "python",
   "pygments_lexer": "ipython3",
   "version": "3.10.13"
  }
 },
 "nbformat": 4,
 "nbformat_minor": 5
}
